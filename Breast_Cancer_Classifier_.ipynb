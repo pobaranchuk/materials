{
  "nbformat": 4,
  "nbformat_minor": 0,
  "metadata": {
    "colab": {
      "name": "Breast Cancer Classifier .ipynb",
      "provenance": [],
      "authorship_tag": "ABX9TyNNj5QyDzfLZjbluz4oPn4e",
      "include_colab_link": true
    },
    "kernelspec": {
      "name": "python3",
      "display_name": "Python 3"
    }
  },
  "cells": [
    {
      "cell_type": "markdown",
      "metadata": {
        "id": "view-in-github",
        "colab_type": "text"
      },
      "source": [
        "<a href=\"https://colab.research.google.com/github/pobaranchuk/materials/blob/master/Breast_Cancer_Classifier_.ipynb\" target=\"_parent\"><img src=\"https://colab.research.google.com/assets/colab-badge.svg\" alt=\"Open In Colab\"/></a>"
      ]
    },
    {
      "cell_type": "code",
      "metadata": {
        "id": "RNVVgV5mpzcF"
      },
      "source": [
        "from sklearn.datasets import load_breast_cancer\n",
        "from sklearn.model_selection import train_test_split\n",
        "from sklearn.neighbors import KNeighborsClassifier\n",
        "from matplotlib import pyplot as plt\n",
        "breast_cancer_data = load_breast_cancer()"
      ],
      "execution_count": 25,
      "outputs": []
    },
    {
      "cell_type": "code",
      "metadata": {
        "id": "fSgYJSqa4Q0K"
      },
      "source": [
        "traning_data, validation_data, traning_labels, validation_labels = train_test_split(breast_cancer_data.data, breast_cancer_data.target, test_size = 0.2, random_state = 40)"
      ],
      "execution_count": 34,
      "outputs": []
    },
    {
      "cell_type": "code",
      "metadata": {
        "colab": {
          "base_uri": "https://localhost:8080/"
        },
        "id": "3FrBNpdk5VAr",
        "outputId": "85164158-8d12-4f30-895e-ee2882ff9158"
      },
      "source": [
        "k_list = []\n",
        "for i in range(1,100):\n",
        "  classifier = KNeighborsClassifier(i)\n",
        "  classifier.fit(traning_data, traning_labels)\n",
        "  k_list.append(classifier.score(validation_data, validation_labels))\n",
        "best_fit = max(k_list)\n",
        "print(k_list.index(best_fit))"
      ],
      "execution_count": 35,
      "outputs": [
        {
          "output_type": "stream",
          "text": [
            "4\n"
          ],
          "name": "stdout"
        }
      ]
    },
    {
      "cell_type": "code",
      "metadata": {
        "colab": {
          "base_uri": "https://localhost:8080/",
          "height": 295
        },
        "id": "xArp_rhO7Sj4",
        "outputId": "8ddf589f-fdd8-4f42-e400-1433797679cb"
      },
      "source": [
        "plt.plot(range(1,100), k_list)\n",
        "plt.xlabel(\"k\")\n",
        "plt.ylabel(\"Validation Accurancy\")\n",
        "plt.title(\"Breast Cancer Classifier Accuracy\")\n",
        "plt.show()"
      ],
      "execution_count": 36,
      "outputs": [
        {
          "output_type": "display_data",
          "data": {
            "image/png": "[encoded data removed]",
            "text/plain": [
              "<Figure size 432x288 with 1 Axes>"
            ]
          },
          "metadata": {
            "tags": [],
            "needs_background": "light"
          }
        }
      ]
    }
  ]
}